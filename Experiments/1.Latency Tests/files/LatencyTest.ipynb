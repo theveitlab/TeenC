{
 "cells": [
  {
   "cell_type": "code",
   "execution_count": 3,
   "id": "3c7f1018",
   "metadata": {},
   "outputs": [],
   "source": [
    "from serial import Serial\n",
    "import time"
   ]
  },
  {
   "cell_type": "code",
   "execution_count": 46,
   "id": "009b668d",
   "metadata": {},
   "outputs": [],
   "source": [
    "# Intialize connection to the serial port\n",
    "device = Serial('COM3',128000)"
   ]
  },
  {
   "cell_type": "code",
   "execution_count": 47,
   "id": "c57399d7",
   "metadata": {},
   "outputs": [],
   "source": [
    "# Setup Code\n",
    "samples = 1000 # Number of samples to send (No of Trials)\n",
    "timeArray = [] #  Array to record the latency times\n",
    "valueArray = [] # Array to store the recieved value. Helps to check whether the recieved value is valid\n",
    "device.flush() # Clear the serial port of previous data"
   ]
  },
  {
   "cell_type": "code",
   "execution_count": 48,
   "id": "89eaf4a9",
   "metadata": {},
   "outputs": [],
   "source": [
    "for trial in range(samples):\n",
    "    \n",
    "    # encodes the data into bytes to send to Teensy\n",
    "    packet = str(trial).encode()\n",
    "    \n",
    "    # Starting the measurement\n",
    "    startTime = time.time()\n",
    "    \n",
    "    # Writing To Teensy\n",
    "    device.write(packet)\n",
    "    \n",
    "    # Resumes the program only if data is recieved in the serial port\n",
    "    while device.in_waiting <= 0:\n",
    "        # device.in_waiting returns the number of bytes available to read in the serial port \n",
    "        continue\n",
    "        \n",
    "    # Reading From Device\n",
    "    res = device.read(size=len(packet)).decode('utf8')\n",
    "    \n",
    "    endTime = time.time()\n",
    "    # Stops the measurement\n",
    "    \n",
    "    valueArray.append(res)  \n",
    "    timeArray.append((endTime - startTime) * 1000) "
   ]
  }
 ],
 "metadata": {
  "kernelspec": {
   "display_name": "Python 3 (ipykernel)",
   "language": "python",
   "name": "python3"
  },
  "language_info": {
   "codemirror_mode": {
    "name": "ipython",
    "version": 3
   },
   "file_extension": ".py",
   "mimetype": "text/x-python",
   "name": "python",
   "nbconvert_exporter": "python",
   "pygments_lexer": "ipython3",
   "version": "3.11.1"
  }
 },
 "nbformat": 4,
 "nbformat_minor": 5
}
